{
 "cells": [
  {
   "cell_type": "markdown",
   "id": "4f62ad19",
   "metadata": {},
   "source": [
    "# FIT9136 Assignment 1\n"
   ]
  },
  {
   "cell_type": "markdown",
   "id": "088876c3",
   "metadata": {},
   "source": [
    "# 1. Get user input function \n",
    "\n",
    "This function has one positional argument “requirement” which is str type. The variable “requirement” can only be the value of (“letter”, “number”, “letter_or_number_or_underscore”, “email”). According to the “requirement” value, this function asks the user to input a corresponding value and return this input. \n",
    "<ul>  \n",
    "    <li>If “requirement” is “letter”, user input can only be letters from [a-zA-Z]. </li>\n",
    "<li>If “requirement” is “number”, user input can only be [0-9]. </li>\n",
    "<li>If “requirement” is “letter_or_number_or_underscore”, user input can only be [a-zA-z0-9_]. </li>\n",
    "<li>If “requirement” is “email”, the user input must contain “@” and “.com”. </li>\n",
    "<li>If user input cannot match the “requirement”, a loop should be applied to keep asking user to input until a valid result is obtained. Finally, the valid value should be returned.  </li>\n",
    "</ul>\n",
    "\n",
    "For example, when calling this function and giving “requirement” value “letter”, user input like “abc123” will receive an error message printed out. Then, your system should print out messages to ask user re-input until an all letter input is made like “abcde”.\n",
    "\n"
   ]
  },
  {
   "cell_type": "code",
   "execution_count": 26,
   "id": "9268aff2",
   "metadata": {},
   "outputs": [],
   "source": [
    "# define your function here\n",
    "\n",
    "\"\"\"This is a generic function that is used to accept and validate inputs of \n",
    "various kinds from the user e.g. username, password, email, postcode.\n",
    "The constraints on user input e.g. letters, numbers, etc. are specified \n",
    "by the requirement parameter.\n",
    "The function validates the user input as per the given specifications\n",
    "and returns it.\n",
    "\"\"\"\n",
    "def get_user_input(requirement):\n",
    "    userInput = input(\"Enter input: \")\n",
    "    # Validate input as per requirement variable\n",
    "    if requirement == \"letter\":\n",
    "        # Keep asking for new input until valid input is obtained\n",
    "        while(userInput.isalpha() == False):\n",
    "            userInput = input(\"Invalid input. Enter all letters only: \")\n",
    "    elif requirement == \"number\":\n",
    "        while(userInput.isdigit() == False):\n",
    "            userInput = input(\"Invalid input. Enter all numbers only: \")\n",
    "    elif requirement == \"letter_or_number_or_underscore\":\n",
    "        # Replacing only underscores with a letter, no other special symbols allowed\n",
    "        while(userInput.replace(\"_\", \"X\").isalnum() == False):\n",
    "            userInput = input(\"Invalid input. Enter letters/numbers/underscores only: \")\n",
    "    elif requirement == \"email\":\n",
    "        \"\"\"\n",
    "        Email validity criteria:\n",
    "        1. Must be alphanumeric and can have \"_\"\n",
    "        2. Must also have, but not start with \"@\" and \".com\"\n",
    "        3. \"@\" and \".com\" must be in that specific serial order, and cannot be adjacent\n",
    "        \"\"\"\n",
    "        while(userInput.replace(\"_\", \"X\").replace(\"@\", \"X\").replace(\".\", \"X\").isalnum() \\\n",
    "            == False or userInput.find(\"@\") < 1 or userInput.find(\".com\") < 1 \\\n",
    "            or userInput.find(\".com\") - userInput.find(\"@\") <= 1):\n",
    "            userInput = input(\"Invalid input. Enter a valid email id: \")\n",
    "    return userInput\n",
    "\n",
    "# get_user_input(\"number\")\n",
    "# get_user_input(\"letter_or_number_or_underscore\")\n",
    "# get_user_input(\"email\")"
   ]
  },
  {
   "cell_type": "markdown",
   "id": "8ffcd71e",
   "metadata": {},
   "source": [
    "## 2. Encryption function\n",
    "\n",
    "This function has a string type positional argument. This function is used to encrypt user input passwords. When we use a web application and enter our password. Our password values will not be stored directly as plain text into the application’s database. Because if an attacker get the database information, they can obtain the user password text. Commonly, users’ passwords will be encrypted with some algorithms(like MD5) to avoid further loss when database leakage happens. Our function emulates a password encryption process. The final encrypted password will follow the requirements listed below. \n",
    "\n",
    "One variable all_punctuation is provided whose value is all_punctuation =\"\"\"!\"#\\$\\%&'()*+,-./:;<=>?@[\\]^_`{|}~\"\"\". \n",
    "\n",
    "<ul>\n",
    "<li>get the character of all_punctuation at input string length module all_punctuation length as the first_character. </li>\n",
    "<li>The second_character position in all_punctuation is the input string length module 5. </li>\n",
    "<li>The third_character position in all_punctuation is the input string length module 10. </li>\n",
    "<li>Start character “^^^” and End character “$$$” for the final encrypted string.</li>\n",
    "</ul>\n",
    "\n",
    "\n",
    "Example: \n",
    "<ul>\n",
    "<li>input string: “password”</li>\n",
    "<li>first_character: “)”</li>\n",
    "<li>second_character: “\\$”</li>\n",
    "<li>third_character: “)”</li>\n",
    "<li>Encrypted result: “^^^)p)\\$\\$a\\$\\$)))s))))s)\\$\\$w\\$\\$)))o))))r)\\$\\$d\\$\\$\\$\\$\\$”</li>\n",
    "</ul>\n",
    "The encrypted string will be returned at the end of this function.\n"
   ]
  },
  {
   "cell_type": "code",
   "execution_count": 27,
   "id": "fb286b3c",
   "metadata": {},
   "outputs": [],
   "source": [
    "\"\"\"This function is used to encrypt the user password to enhance data security.\n",
    "It has one parameter which is the password in plain text.\n",
    "The function encrypts this argument string using the given logic and returns \n",
    "it.\n",
    "\"\"\"\n",
    "def encryption(input_str):\n",
    "    all_punctuation = \"\"\"!\"#$%&'()*+,-./:;<=>?@[\\]^_`{|}~\"\"\"\n",
    "    # your answer\n",
    "    # Obtaining the three encoding characters\n",
    "    first_character = all_punctuation[len(input_str) % len(all_punctuation)]\n",
    "    second_character = all_punctuation[len(input_str) % 5]\n",
    "    third_character = all_punctuation[len(input_str) % 10]\n",
    "    # making a list of these three characters for use below\n",
    "    encodingList = [first_character, second_character, third_character]\n",
    "    # print(second_character)\n",
    "    # Building the encrypted password\n",
    "    i = 1\n",
    "    output_str = \"\"\n",
    "    for j in input_str:\n",
    "        \"\"\"Multiple the code character by its index i and \n",
    "        append this string before and after the password \n",
    "        character \"j\"\n",
    "        \"\"\"\n",
    "        j = encodingList[i-1]*i + j + encodingList[i-1]*i\n",
    "        output_str += j\n",
    "        # Update index i in encodingList, reset to 0 if end of list reached\n",
    "        i = (i+1) % 4\n",
    "        if i == 0:\n",
    "            i = 1\n",
    "    # Add the final head and tail strings to the encrypted password\n",
    "    output_str = \"^^^\" + output_str + \"$$$\"\n",
    "    # print(output_str)\n",
    "    return output_str\n",
    "\n",
    "# encryption(\"12333\")"
   ]
  },
  {
   "cell_type": "markdown",
   "id": "a1e7bb65",
   "metadata": {},
   "source": [
    "## 3. Generate user id function\n",
    "\n",
    "This function contains two positional arguments that are number_of_digits(int type), number_list(list type, a list of str). Based on the number_of_digits, you are required to generate an all digit string and all the string in the number_list should be unique.   \n",
    "\n",
    "For example, the number_of_digits = 7, the generated string should only contain 7 digits. If the number_list = [“1234567”, “2345678”], the newly generated id cannot be the same as any element in the given list. The generated string id should be returned."
   ]
  },
  {
   "cell_type": "code",
   "execution_count": 28,
   "id": "e0b095fe",
   "metadata": {},
   "outputs": [],
   "source": [
    "# define your function here\n",
    "import random\n",
    "\n",
    "\"\"\"This function generates a unique random numeric string and returns it.\n",
    "It has two parameters:\n",
    "1. number of digits that random string must have.\n",
    "2. the number list containing the previously generated random strings.\n",
    "\"\"\"\n",
    "def generate_user_id(number_of_digits, number_list):\n",
    "    \"\"\"\n",
    "    Keep generating a new id until a unique id is \n",
    "    obtained\n",
    "    \"\"\"\n",
    "    while True:\n",
    "        user_id = \"\"\n",
    "        # Generate a random id string\n",
    "        for i in range(number_of_digits):\n",
    "            user_id += str(random.randint(0,9))\n",
    "            # print(\"-\")\n",
    "            # user_id = \"443322\"\n",
    "        # Check if generated id is unique\n",
    "        flag = 0\n",
    "        for i in number_list:\n",
    "            if user_id == i: # not unique, stop \n",
    "                flag = 1\n",
    "                break\n",
    "        if flag == 0:\n",
    "            # print(\"Unique ==> added\")\n",
    "            break\n",
    "    return user_id   \n",
    "\n",
    "# generate_user_id(6, [\"123456\", \"223344\", \"443322\"])"
   ]
  },
  {
   "cell_type": "markdown",
   "id": "190e5507",
   "metadata": {},
   "source": [
    "## 4. Check username exist function\n",
    "\n",
    "This function contains two positional arguments that are username(str type) and user_list(list type, a list of list). The user_list looks like \\[\\[username1, password1, email1, postcode1\\],\\[username2, password2, email2, postcode2\\]...\\]. This function should check whether the username string exists in the user_list or not and return the boolean result.\n",
    "\n",
    "For example, given user_list=\\[\\[“aaaaa”, “bbbbb”, “aaa\\@gmail.com”, “3000”\\], \\[“eeeee”, “fffff”, “eee\\@gmai.com”, “4000”\\]\\], if the given username is “aaaaa”, return True.\n"
   ]
  },
  {
   "cell_type": "code",
   "execution_count": 31,
   "id": "211d58da",
   "metadata": {},
   "outputs": [],
   "source": [
    "# define your function here\n",
    "\n",
    "\"\"\"This function checks if the argument username exists in \n",
    "an argument list of users.\n",
    "It has two parameters:\n",
    "1. username, which is to be checked for uniqueness\n",
    "2. user list, the list of existing users\n",
    "The function returns a boolean value; True if username is \n",
    "found in the user list, False otherwise.\n",
    "\"\"\"\n",
    "def check_username_exists(username, user_list):\n",
    "    for i in user_list:\n",
    "        if (i[0] == username): #match found\n",
    "            return True\n",
    "    #match not found\n",
    "    return False\n",
    "\n",
    "# check_username_exists(\"aaaaa\", [[\"aaaaa\", \"bbbbb\", \"aaa@gmail.com\", \"3000\"], [\"eeeee\", \"fffff\", \"eee@gmail.com\", \"4000\"]])"
   ]
  },
  {
   "cell_type": "markdown",
   "id": "98504ef0",
   "metadata": {},
   "source": [
    "## 5. Authenticate username and password function\n",
    "\n",
    "This function contains three positional arguments that are username(str type), password(str type) and user_dict(dict type). The user_dict looks like {user_id1: \\[username1, password1, email1, postcode1\\], user_id2: \\[username2, password2, email2, postcode2\\].....}. You are required to check whether the given username and password can match one item in the user_dict.  \n",
    "\n"
   ]
  },
  {
   "cell_type": "code",
   "execution_count": 34,
   "id": "6cc9dcb1",
   "metadata": {},
   "outputs": [],
   "source": [
    "# define your function here\n",
    "\n",
    "\"\"\"This functions authenticates an argument \n",
    "username-password pair.\n",
    "It has three parameters:\n",
    "1. username string\n",
    "2. password string(plain text)\n",
    "3. user dictionary\n",
    "The function takes the username-password pair and scans \n",
    "the user dictionary for it.\n",
    "If a match is found, True is returned, and False otherwise\n",
    "\"\"\"\n",
    "def authenticate(username, password, user_dict):\n",
    "    #scan through all pairs of dictionary\n",
    "    for i in user_dict.items():\n",
    "        if (i[1][0] == username and \\\n",
    "            i[1][1] == encryption(password)): #match found\n",
    "            return True\n",
    "    #match not found\n",
    "    return False\n",
    "\n",
    "# authenticate(\"bbbbb\", \"1222\", {\"12345\": [\"aaaa\", \"^^^&1&!!2!!&&&3&&&&3&!!3!!$$$\"\\\n",
    "#     , \"aa@gmail.com\", \"3151\"], \"34567\": [\"bbbbb\", \"^^^%1%%%2%%%%%2%%%%2%$$$\",\\\n",
    "#                                          \"bb@gmail.com\", \"3000\"]})"
   ]
  },
  {
   "cell_type": "markdown",
   "id": "4cffdd37",
   "metadata": {},
   "source": [
    "## 6. Add user to list function\n",
    "\n",
    "This function has two positional arguments that are user_id_list(list type) and user_list(list type). The user_id_list looks like [‘1234’, ‘5123’, ‘62345’,.....] and the user_list looks like [[username1, password1, email1, postcode1],[username2, password2, email2, postcode2]...]. In this function, you should call the get user input function several times to ask the user to input username(only contains letters), password(contains letter or number or underscore), email(email format) and postcode(only contains numbers). Username cannot have duplicates in the user_list(call check username exist function here). After getting the postcode,  you are required to generate a unique user_id for this user.   \n",
    "The rules are listed below.  \n",
    "<ul>\n",
    "<li>1000 <= postcode < 2000   → generate a 7 digits user id</li>\n",
    "<li>2000 <= postcode < 3000   --> generate a 8 digits user id</li>\n",
    "<li>3000 <= postcode < 4000   --> generate a 9 digits user id</li>\n",
    "<li>4000 <= postcode < 5000   --> generate a 10 digits user id</li>\n",
    "</ul>\n",
    "After generating the unique user_id, it should be added into the user_id_list.  \n",
    "Once getting all the necessary information from user input, a new user(format: [username, password, email, postcode]) should be added to the user_list. The password should be encrypted when adding user info into user_list.  \n",
    "\n",
    "For example, after getting user input, a user like \\[“aaaaa”, “^^^%1%%%2%%%%%2%%%%2%$$\\$”, “aa\\@gmail.com”, “3131”\\] can be added into the user_list and a user id “123456789” can be added into the user_id_list.\n",
    "\n"
   ]
  },
  {
   "cell_type": "code",
   "execution_count": 62,
   "id": "54fcac01",
   "metadata": {},
   "outputs": [],
   "source": [
    "# define your function here\n"
   ]
  },
  {
   "cell_type": "markdown",
   "id": "22a51820",
   "metadata": {},
   "source": [
    "## 7. Test function\n",
    "\n",
    "This function contains the test code using previous defined functions. The test function steps are listed below. You can also add more steps if you need.\n",
    "\n",
    "<ol>\n",
    "    <li>Define a user id list.</li>\n",
    "<li>Define a user list. Each user is also a list which contains username(str type), encrypted password(str type), email(str type) and postcode(str type). The format is like [[username1, password1, email1, postcode1],[username2, password2, email2, postcode2]...].</li>\n",
    "<li>Add several users by calling add user to list function.</li>\n",
    "<li>Convert the user id list and user list to a dictionary.</li>\n",
    "<li>Call the authentication of username and password function.</li>\n",
    "<li>When a user enters “q”, the program can quit. Otherwise, keep asking the user to input and do authentication.</li>\n",
    "<li>Print out “username password correct” or “username or password incorrect” according to the authentication result.</li>\n",
    "</ol>\n",
    "\n"
   ]
  },
  {
   "cell_type": "code",
   "execution_count": 65,
   "id": "d332944e",
   "metadata": {},
   "outputs": [],
   "source": [
    "# define your function here\n"
   ]
  },
  {
   "cell_type": "code",
   "execution_count": 1,
   "id": "fba79c29",
   "metadata": {},
   "outputs": [],
   "source": [
    "# run the test function here\n"
   ]
  }
 ],
 "metadata": {
  "kernelspec": {
   "display_name": "Python 3 (ipykernel)",
   "language": "python",
   "name": "python3"
  },
  "language_info": {
   "codemirror_mode": {
    "name": "ipython",
    "version": 3
   },
   "file_extension": ".py",
   "mimetype": "text/x-python",
   "name": "python",
   "nbconvert_exporter": "python",
   "pygments_lexer": "ipython3",
   "version": "3.9.7"
  },
  "latex_envs": {
   "LaTeX_envs_menu_present": true,
   "autoclose": false,
   "autocomplete": true,
   "bibliofile": "biblio.bib",
   "cite_by": "apalike",
   "current_citInitial": 1,
   "eqLabelWithNumbers": true,
   "eqNumInitial": 1,
   "hotkeys": {
    "equation": "Ctrl-E",
    "itemize": "Ctrl-I"
   },
   "labels_anchors": false,
   "latex_user_defs": false,
   "report_style_numbering": false,
   "user_envs_cfg": false
  }
 },
 "nbformat": 4,
 "nbformat_minor": 5
}
