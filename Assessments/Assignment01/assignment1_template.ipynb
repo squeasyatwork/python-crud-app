{
 "cells": [
  {
   "cell_type": "markdown",
   "id": "4f62ad19",
   "metadata": {},
   "source": [
    "# FIT9136 Assignment 1\n"
   ]
  },
  {
   "cell_type": "markdown",
   "id": "c1e9b4c9",
   "metadata": {},
   "source": [
    "## 1. Get user input function \n",
    "\n",
    "This function has one positional argument “requirement” which is str type. The variable “requirement” can only be the value of (“letter”, “number”, “letter_or_number_or_underscore”, “email”). According to the “requirement” value, this function asks the user to input a corresponding value and return this input. \n",
    "<ul>  \n",
    "    <li>If “requirement” is “letter”, user input can only be letters from [a-zA-Z]. </li>\n",
    "<li>If “requirement” is “number”, user input can only be [0-9]. </li>\n",
    "<li>If “requirement” is “letter_or_number_or_underscore”, user input can only be [a-zA-z0-9_]. </li>\n",
    "<li>If “requirement” is “email”, the user input must contain “@” and “.com”. </li>\n",
    "<li>If user input cannot match the “requirement”, a loop should be applied to keep asking user to input until a valid result is obtained. Finally, the valid value should be returned.  </li>\n",
    "</ul>\n",
    "\n",
    "For example, when calling this function and giving “requirement” value “letter”, user input like “abc123” will receive an error message printed out. Then, your system should print out messages to ask user re-input until an all letter input is made like “abcde”.\n",
    "\n"
   ]
  },
  {
   "cell_type": "code",
   "execution_count": null,
   "id": "9268aff2",
   "metadata": {},
   "outputs": [],
   "source": [
    "# define your function here"
   ]
  },
  {
   "cell_type": "markdown",
   "id": "4e11d7df",
   "metadata": {},
   "source": [
    "## 2. Encryption function\n",
    "\n",
    "This function has a string type positional argument. This function is used to encrypt user input passwords. When we use a web application and enter our password. Our password values will not be stored directly as plain text into the application’s database. Because if an attacker get the database information, they can obtain the user password text. Commonly, users’ passwords will be encrypted with some algorithms(like MD5) to avoid further loss when database leakage happens. Our function emulates a password encryption process. The final encrypted password will follow the requirements listed below. \n",
    "\n",
    "One variable all_punctuation is provided whose value is all_punctuation =\"\"\"!\"#\\$\\%&'()*+,-./:;<=>?@[\\]^_`{|}~\"\"\". \n",
    "\n",
    "<ul>\n",
    "<li>get the character of all_punctuation at input string length module all_punctuation length as the first_character. </li>\n",
    "<li>The second_character position in all_punctuation is the input string length module 5. </li>\n",
    "<li>The third_character position in all_punctuation is the input string length module 10. </li>\n",
    "<li>Start character “^^^” and End character “$$$” for the final encrypted string.</li>\n",
    "</ul>\n",
    "\n",
    "\n",
    "Example: \n",
    "<ul>\n",
    "<li>input string: “password”</li>\n",
    "<li>first_character: “)”</li>\n",
    "<li>second_character: “\\$”</li>\n",
    "<li>third_character: “)”</li>\n",
    "<li>Encrypted result: “^^^)p)\\$\\$a\\$\\$)))s))))s)\\$\\$w\\$\\$)))o))))r)\\$\\$d\\$\\$\\$\\$\\$”</li>\n",
    "</ul>\n",
    "The encrypted string will be returned at the end of this function.\n"
   ]
  },
  {
   "cell_type": "code",
   "execution_count": null,
   "id": "fb286b3c",
   "metadata": {},
   "outputs": [],
   "source": [
    "def encryption(input_str):\n",
    "    all_punctuation = \"\"\"!\"#$%&'()*+,-./:;<=>?@[\\]^_`{|}~\"\"\"\n",
    "    # your answer"
   ]
  },
  {
   "cell_type": "markdown",
   "id": "a1e7bb65",
   "metadata": {},
   "source": [
    "## 3. Generate user id function\n",
    "\n",
    "This function contains two positional arguments that are number_of_digits(int type), number_list(list type, a list of str). Based on the number_of_digits, you are required to generate an all digit string and all the string in the number_list should be unique.   \n",
    "\n",
    "For example, the number_of_digits = 7, the generated string should only contain 7 digits. If the number_list = [“1234567”, “2345678”], the newly generated id cannot be the same as any element in the given list. The generated string id should be returned."
   ]
  },
  {
   "cell_type": "code",
   "execution_count": null,
   "id": "e0b095fe",
   "metadata": {},
   "outputs": [],
   "source": [
    "# define your function here"
   ]
  },
  {
   "cell_type": "markdown",
   "id": "190e5507",
   "metadata": {},
   "source": [
    "## 4. Check username exist function\n",
    "\n",
    "This function contains two positional arguments that are username(str type) and user_list(list type, a list of list). The user_list looks like \\[\\[username1, password1, email1, postcode1\\],\\[username2, password2, email2, postcode2\\]...\\]. This function should check whether the username string exists in the user_list or not and return the boolean result.\n",
    "\n",
    "For example, given user_list=\\[\\[“aaaaa”, “bbbbb”, “aaa\\@gmail.com”, “3000”\\], \\[“eeeee”, “fffff”, “eee\\@gmai.com”, “4000”\\]\\], if the given username is “aaaaa”, return True.\n"
   ]
  },
  {
   "cell_type": "code",
   "execution_count": null,
   "id": "211d58da",
   "metadata": {},
   "outputs": [],
   "source": [
    "# define your function here"
   ]
  },
  {
   "cell_type": "markdown",
   "id": "98504ef0",
   "metadata": {},
   "source": [
    "## 5. Authenticate username and password function\n",
    "\n",
    "This function contains three positional arguments that are username(str type), password(str type) and user_dict(dict type). The user_dict looks like {user_id1: \\[username1, password1, email1, postcode1\\], user_id2: \\[username2, password2, email2, postcode2\\].....}. You are required to check whether the given username and password can match one item in the user_dict.  \n",
    "\n"
   ]
  },
  {
   "cell_type": "code",
   "execution_count": null,
   "id": "6cc9dcb1",
   "metadata": {},
   "outputs": [],
   "source": [
    "\"\"\"\n",
    "For example, the username=”aaaa”, password=”12333”, \n",
    "user_dict={“12345”: [“aaaa”, “^^^&1&!!2!!&&&3&&&&3&!!3!!$$$”, “aa@gmail.com”, “3151”], \n",
    "           “34567”: [“bbbbb”, “^^^%1%%%2%%%%%2%%%%2%$$$”, “bb@gmail.com”, “3000”]}, \n",
    "the authentication result will be True. \n",
    "If the username=”bbbbb”, password=”12333”, the authentication result will be False.\n",
    "\"\"\"\n",
    "# define your function here"
   ]
  },
  {
   "cell_type": "markdown",
   "id": "4cffdd37",
   "metadata": {},
   "source": [
    "## 6. Add user to list function\n",
    "\n",
    "This function has two positional arguments that are user_id_list(list type) and user_list(list type). The user_id_list looks like [‘1234’, ‘5123’, ‘62345’,.....] and the user_list looks like [[username1, password1, email1, postcode1],[username2, password2, email2, postcode2]...]. In this function, you should call the get user input function several times to ask the user to input username(only contains letters), password(contains letter or number or underscore), email(email format) and postcode(only contains numbers). Username cannot have duplicates in the user_list(call check username exist function here). After getting the postcode,  you are required to generate a unique user_id for this user.   \n",
    "The rules are listed below.  \n",
    "<ul>\n",
    "<li>1000 <= postcode < 2000   → generate a 7 digits user id</li>\n",
    "<li>2000 <= postcode < 3000   --> generate a 8 digits user id</li>\n",
    "<li>3000 <= postcode < 4000   --> generate a 9 digits user id</li>\n",
    "<li>4000 <= postcode < 5000   --> generate a 10 digits user id</li>\n",
    "</ul>\n",
    "After generating the unique user_id, it should be added into the user_id_list.  \n",
    "Once getting all the necessary information from user input, a new user(format: [username, password, email, postcode]) should be added to the user_list. The password should be encrypted when adding user info into user_list.  \n",
    "\n",
    "For example, after getting user input, a user like \\[“aaaaa”, “^^^%1%%%2%%%%%2%%%%2%$$\\$”, “aa\\@gmail.com”, “3131”\\] can be added into the user_list and a user id “123456789” can be added into the user_id_list.\n",
    "\n"
   ]
  },
  {
   "cell_type": "code",
   "execution_count": null,
   "id": "54fcac01",
   "metadata": {},
   "outputs": [],
   "source": [
    "# define your function here"
   ]
  },
  {
   "cell_type": "markdown",
   "id": "ab4b353a",
   "metadata": {},
   "source": [
    "## 7. Test function\n",
    "\n",
    "This function contains the test code using previous defined functions. The test function steps are listed below. You can also add more steps if you need.\n",
    "\n",
    "<ol>\n",
    "    <li>Define a user id list.</li>\n",
    "<li>Define a user list. Each user is also a list which contains username(str type), encrypted password(str type), email(str type) and postcode(str type). The format is like [[username1, password1, email1, postcode1],[username2, password2, email2, postcode2]...].</li>\n",
    "<li>Add several users by calling add user to list function.</li>\n",
    "<li>Convert the user id list and user list to a dictionary.</li>\n",
    "<li>Call the authentication of username and password function.</li>\n",
    "<li>When a user enters “q”, the program can quit. Otherwise, keep asking the user to input and do authentication.</li>\n",
    "<li>Print out “username password correct” or “username or password incorrect” according to the authentication result.</li>\n",
    "</ol>\n",
    "\n"
   ]
  },
  {
   "cell_type": "code",
   "execution_count": null,
   "id": "d332944e",
   "metadata": {},
   "outputs": [],
   "source": [
    "# define your function here"
   ]
  },
  {
   "cell_type": "code",
   "execution_count": null,
   "id": "ca4afbf6",
   "metadata": {},
   "outputs": [],
   "source": []
  },
  {
   "cell_type": "code",
   "execution_count": null,
   "id": "fba79c29",
   "metadata": {},
   "outputs": [],
   "source": [
    "# run the test function here"
   ]
  }
 ],
 "metadata": {
  "kernelspec": {
   "display_name": "Python 3",
   "language": "python",
   "name": "python3"
  },
  "language_info": {
   "codemirror_mode": {
    "name": "ipython",
    "version": 3
   },
   "file_extension": ".py",
   "mimetype": "text/x-python",
   "name": "python",
   "nbconvert_exporter": "python",
   "pygments_lexer": "ipython3",
   "version": "3.8.8"
  },
  "latex_envs": {
   "LaTeX_envs_menu_present": true,
   "autoclose": false,
   "autocomplete": true,
   "bibliofile": "biblio.bib",
   "cite_by": "apalike",
   "current_citInitial": 1,
   "eqLabelWithNumbers": true,
   "eqNumInitial": 1,
   "hotkeys": {
    "equation": "Ctrl-E",
    "itemize": "Ctrl-I"
   },
   "labels_anchors": false,
   "latex_user_defs": false,
   "report_style_numbering": false,
   "user_envs_cfg": false
  }
 },
 "nbformat": 4,
 "nbformat_minor": 5
}
